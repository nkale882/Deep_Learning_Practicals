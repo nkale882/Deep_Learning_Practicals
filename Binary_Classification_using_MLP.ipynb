{
  "nbformat": 4,
  "nbformat_minor": 0,
  "metadata": {
    "colab": {
      "provenance": [],
      "mount_file_id": "1fvKcnF9S2gyEwN4eVORBxD12QqTZP5yq",
      "authorship_tag": "ABX9TyOT0C4KZBl8zn8mqfFBdw9m"
    },
    "kernelspec": {
      "name": "python3",
      "display_name": "Python 3"
    },
    "language_info": {
      "name": "python"
    }
  },
  "cells": [
    {
      "cell_type": "code",
      "execution_count": null,
      "metadata": {
        "id": "IEI28cLP-1Gx"
      },
      "outputs": [],
      "source": [
        "# Nilesh Kale (AI3005)\n",
        "\n",
        "import pandas as pd\n",
        "path=\"/content/drive/MyDrive/heart_2022.csv\"\n",
        "df=pd.read_csv(path)"
      ]
    },
    {
      "cell_type": "code",
      "source": [
        "import pandas as pd\n",
        "import numpy as np\n",
        "from sklearn.model_selection import train_test_split\n",
        "from sklearn.preprocessing import LabelEncoder, StandardScaler\n",
        "import tensorflow as tf\n",
        "from tensorflow import keras\n",
        "from tensorflow.keras.models import Sequential\n",
        "from tensorflow.keras.layers import Dense\n",
        "# Identify categorical and numerical columns\n",
        "#categorical_cols = [\"State\", \"Sex\", \"GeneralHealth\", \"LastCheckupTime\", \"PhysicalActivities\", \"RemovedTeeth\"]\n",
        "#numerical_cols = [\"PhysicalHealthDays\", \"MentalHealthDays\", \"SleepHours\"]\n",
        "\n",
        "# Automatically identify categorical and numerical columns\n",
        "categorical_cols = df.select_dtypes(include=['object']).columns.tolist()  # Select string-based categorical columns\n",
        "numerical_cols = df.select_dtypes(include=['int64', 'float64']).columns.tolist()  # Select numerical columns\n",
        "\n",
        "# Print results\n",
        "print(\"Categorical Columns:\", categorical_cols)\n",
        "print(\"Numerical Columns:\", numerical_cols)\n"
      ],
      "metadata": {
        "colab": {
          "base_uri": "https://localhost:8080/"
        },
        "id": "KC4qvrN1ULLq",
        "outputId": "4cd64698-8ec5-44e0-bccf-abc4169af2c3"
      },
      "execution_count": null,
      "outputs": [
        {
          "output_type": "stream",
          "name": "stdout",
          "text": [
            "Categorical Columns: ['State', 'Sex', 'GeneralHealth', 'LastCheckupTime', 'PhysicalActivities', 'RemovedTeeth', 'HadHeartAttack', 'HadAngina', 'HadStroke', 'HadAsthma', 'HadSkinCancer', 'HadCOPD', 'HadDepressiveDisorder', 'HadKidneyDisease', 'HadArthritis', 'HadDiabetes', 'DeafOrHardOfHearing', 'BlindOrVisionDifficulty', 'DifficultyConcentrating', 'DifficultyWalking', 'DifficultyDressingBathing', 'DifficultyErrands', 'SmokerStatus', 'ECigaretteUsage', 'ChestScan', 'RaceEthnicityCategory', 'AgeCategory', 'AlcoholDrinkers', 'HIVTesting', 'FluVaxLast12', 'PneumoVaxEver', 'TetanusLast10Tdap', 'HighRiskLastYear', 'CovidPos']\n",
            "Numerical Columns: ['PhysicalHealthDays', 'MentalHealthDays', 'SleepHours', 'HeightInMeters', 'WeightInKilograms', 'BMI']\n"
          ]
        }
      ]
    },
    {
      "cell_type": "code",
      "source": [
        "# Encode categorical columns\n",
        "label_encoders = {}\n",
        "for col in categorical_cols:\n",
        "    le = LabelEncoder()\n",
        "    df[col] = le.fit_transform(df[col])\n",
        "    label_encoders[col] = le  # Save encoders for later use"
      ],
      "metadata": {
        "id": "pi3tdza_V5am"
      },
      "execution_count": null,
      "outputs": []
    },
    {
      "cell_type": "code",
      "source": [
        "print(df.head())"
      ],
      "metadata": {
        "colab": {
          "base_uri": "https://localhost:8080/"
        },
        "id": "s_N4q7m2V8bD",
        "outputId": "f60a064e-8729-4ae5-c258-1f6dc09f84dd"
      },
      "execution_count": null,
      "outputs": [
        {
          "output_type": "stream",
          "name": "stdout",
          "text": [
            "   State  Sex  GeneralHealth  PhysicalHealthDays  MentalHealthDays  \\\n",
            "0      0    0              4                   4                 0   \n",
            "1      0    1              4                   0                 0   \n",
            "2      0    1              4                   0                 0   \n",
            "3      0    0              1                   5                 0   \n",
            "4      0    0              2                   3                15   \n",
            "\n",
            "   LastCheckupTime  PhysicalActivities  SleepHours  RemovedTeeth  \\\n",
            "0                3                   1           9             3   \n",
            "1                3                   1           6             3   \n",
            "2                3                   0           8             1   \n",
            "3                3                   1           9             3   \n",
            "4                3                   1           5             0   \n",
            "\n",
            "   HadHeartAttack  ...  HeightInMeters  WeightInKilograms    BMI  \\\n",
            "0               0  ...            1.60              71.67  27.99   \n",
            "1               0  ...            1.78              95.25  30.13   \n",
            "2               0  ...            1.85             108.86  31.66   \n",
            "3               0  ...            1.70              90.72  31.32   \n",
            "4               0  ...            1.55              79.38  33.07   \n",
            "\n",
            "   AlcoholDrinkers  HIVTesting  FluVaxLast12  PneumoVaxEver  \\\n",
            "0                0           0             1              1   \n",
            "1                0           0             1              1   \n",
            "2                1           0             0              1   \n",
            "3                0           0             1              1   \n",
            "4                0           0             1              1   \n",
            "\n",
            "   TetanusLast10Tdap  HighRiskLastYear  CovidPos  \n",
            "0                  1                 0         0  \n",
            "1                  2                 0         0  \n",
            "2                  0                 0         2  \n",
            "3                  0                 0         2  \n",
            "4                  0                 0         0  \n",
            "\n",
            "[5 rows x 40 columns]\n"
          ]
        }
      ]
    },
    {
      "cell_type": "code",
      "source": [
        "\n",
        "# Normalize numerical columns\n",
        "scaler = StandardScaler()\n",
        "df[numerical_cols] = scaler.fit_transform(df[numerical_cols])\n",
        "\n",
        "# Define target variable\n",
        "target_col = \"HadHeartAttack\"  # target column\n",
        "df[target_col] = LabelEncoder().fit_transform(df[target_col])  # Convert \"Yes/No\" to 1/0\n",
        "\n",
        "# Split into features and target\n",
        "X = df.drop(columns=[target_col])\n",
        "y = df[target_col]"
      ],
      "metadata": {
        "id": "nSIcWjYCV_cD"
      },
      "execution_count": null,
      "outputs": []
    },
    {
      "cell_type": "code",
      "source": [
        "print(df.head())"
      ],
      "metadata": {
        "colab": {
          "base_uri": "https://localhost:8080/"
        },
        "id": "fGnZvHfxWByy",
        "outputId": "d87878b5-cf62-43b0-e4ad-526260cb8df3"
      },
      "execution_count": null,
      "outputs": [
        {
          "output_type": "stream",
          "name": "stdout",
          "text": [
            "   State  Sex  GeneralHealth  PhysicalHealthDays  MentalHealthDays  \\\n",
            "0      0    0              4           -0.053953         -0.513691   \n",
            "1      0    1              4           -0.508149         -0.513691   \n",
            "2      0    1              4           -0.508149         -0.513691   \n",
            "3      0    0              1            0.059596         -0.513691   \n",
            "4      0    0              2           -0.167502          1.294469   \n",
            "\n",
            "   LastCheckupTime  PhysicalActivities  SleepHours  RemovedTeeth  \\\n",
            "0                3                   1    1.282643             3   \n",
            "1                3                   1   -0.708319             3   \n",
            "2                3                   0    0.618989             1   \n",
            "3                3                   1    1.282643             3   \n",
            "4                3                   1   -1.371973             0   \n",
            "\n",
            "   HadHeartAttack  ...  HeightInMeters  WeightInKilograms       BMI  \\\n",
            "0               0  ...       -1.011468          -0.561179 -0.094374   \n",
            "1               0  ...        0.698322           0.553562  0.237761   \n",
            "2               0  ...        1.363241           1.196972  0.475222   \n",
            "3               0  ...       -0.061585           0.339407  0.422453   \n",
            "4               0  ...       -1.486410          -0.196690  0.694058   \n",
            "\n",
            "   AlcoholDrinkers  HIVTesting  FluVaxLast12  PneumoVaxEver  \\\n",
            "0                0           0             1              1   \n",
            "1                0           0             1              1   \n",
            "2                1           0             0              1   \n",
            "3                0           0             1              1   \n",
            "4                0           0             1              1   \n",
            "\n",
            "   TetanusLast10Tdap  HighRiskLastYear  CovidPos  \n",
            "0                  1                 0         0  \n",
            "1                  2                 0         0  \n",
            "2                  0                 0         2  \n",
            "3                  0                 0         2  \n",
            "4                  0                 0         0  \n",
            "\n",
            "[5 rows x 40 columns]\n"
          ]
        }
      ]
    },
    {
      "cell_type": "code",
      "source": [
        "import pickle\n",
        "\n",
        "label_encoder_path = \"/content/drive/MyDrive/Deep_Learning/label_encoders.pkl\"\n",
        "scaler_path = \"/content/drive/MyDrive/Deep_Learning/scaler.pkl\"\n",
        "\n",
        "with open(label_encoder_path, \"wb\") as f:\n",
        "    pickle.dump(label_encoders, f)\n",
        "\n",
        "with open(scaler_path, \"wb\") as f:\n",
        "    pickle.dump(scaler, f)\n"
      ],
      "metadata": {
        "id": "iC6-OFp3Yhw5"
      },
      "execution_count": null,
      "outputs": []
    },
    {
      "cell_type": "code",
      "source": [
        "# Train-test split\n",
        "X_train, X_test, y_train, y_test = train_test_split(X, y, test_size=0.2, random_state=42)\n",
        "\n",
        "# Build the neural network, Run the cell to train the model in *epochs\n",
        "model = Sequential([\n",
        "    Dense(32, activation='relu', input_shape=(X_train.shape[1],)),\n",
        "    Dense(16, activation='relu'),\n",
        "    Dense(1, activation='sigmoid')  # Sigmoid for binary classification\n",
        "])\n",
        "\n",
        "# Compile the model\n",
        "model.compile(optimizer='sgd', loss='binary_crossentropy', metrics=['accuracy'])\n",
        "\n",
        "# Train the model\n",
        "model.fit(X_train, y_train, epochs=3, batch_size=16, validation_data=(X_test, y_test))\n",
        "# Save model weights\n",
        "model.save(\"/content/drive/MyDrive/Deep_Learning/health_model.weights.h5\")\n"
      ],
      "metadata": {
        "colab": {
          "base_uri": "https://localhost:8080/"
        },
        "id": "-tHOACOzY3HT",
        "outputId": "6b899066-0cdd-49d3-b21e-2e10edb6093f"
      },
      "execution_count": null,
      "outputs": [
        {
          "output_type": "stream",
          "name": "stderr",
          "text": [
            "/usr/local/lib/python3.11/dist-packages/keras/src/layers/core/dense.py:87: UserWarning: Do not pass an `input_shape`/`input_dim` argument to a layer. When using Sequential models, prefer using an `Input(shape)` object as the first layer in the model instead.\n",
            "  super().__init__(activity_regularizer=activity_regularizer, **kwargs)\n"
          ]
        },
        {
          "output_type": "stream",
          "name": "stdout",
          "text": [
            "Epoch 1/3\n",
            "\u001b[1m483/483\u001b[0m \u001b[32m━━━━━━━━━━━━━━━━━━━━\u001b[0m\u001b[37m\u001b[0m \u001b[1m3s\u001b[0m 4ms/step - accuracy: 0.9212 - loss: 0.3099 - val_accuracy: 0.9379 - val_loss: nan\n",
            "Epoch 2/3\n",
            "\u001b[1m483/483\u001b[0m \u001b[32m━━━━━━━━━━━━━━━━━━━━\u001b[0m\u001b[37m\u001b[0m \u001b[1m1s\u001b[0m 2ms/step - accuracy: 0.9366 - loss: 0.2248 - val_accuracy: 0.9379 - val_loss: nan\n",
            "Epoch 3/3\n",
            "\u001b[1m483/483\u001b[0m \u001b[32m━━━━━━━━━━━━━━━━━━━━\u001b[0m\u001b[37m\u001b[0m \u001b[1m1s\u001b[0m 2ms/step - accuracy: 0.9413 - loss: 0.2033 - val_accuracy: 0.9379 - val_loss: nan\n"
          ]
        },
        {
          "output_type": "stream",
          "name": "stderr",
          "text": [
            "WARNING:absl:You are saving your model as an HDF5 file via `model.save()` or `keras.saving.save_model(model)`. This file format is considered legacy. We recommend using instead the native Keras format, e.g. `model.save('my_model.keras')` or `keras.saving.save_model(model, 'my_model.keras')`. \n"
          ]
        }
      ]
    },
    {
      "cell_type": "code",
      "source": [
        "# Evaluate the model\n",
        "accuracy = model.evaluate(X_test, y_test)\n",
        "print(f\"Test Accuracy: {accuracy:.4f}\")"
      ],
      "metadata": {
        "colab": {
          "base_uri": "https://localhost:8080/"
        },
        "id": "I9LM1D5eZO3G",
        "outputId": "80d4b6e8-83cc-489d-b8d5-67bb9a4216b6"
      },
      "execution_count": null,
      "outputs": [
        {
          "output_type": "stream",
          "name": "stdout",
          "text": [
            "\u001b[1m61/61\u001b[0m \u001b[32m━━━━━━━━━━━━━━━━━━━━\u001b[0m\u001b[37m\u001b[0m \u001b[1m0s\u001b[0m 4ms/step - accuracy: 0.9387 - loss: nan\n",
            "Test Accuracy: 0.9379\n"
          ]
        }
      ]
    },
    {
      "cell_type": "code",
      "source": [
        "from tensorflow.keras.models import load_model\n",
        "import os\n",
        "\n",
        "# Load the saved model\n",
        "model = load_model(\"/content/drive/MyDrive/Deep_Learning/health_model.weights.h5\")\n",
        "# Load label encoders\n",
        "with open(\"/content/drive/MyDrive/Deep_Learning/label_encoders.pkl\", \"rb\") as f:\n",
        "    label_encoders = pickle.load(f)\n",
        "\n",
        "# Load scaler\n",
        "with open(\"/content/drive/MyDrive/Deep_Learning/scaler.pkl\", \"rb\") as f:\n",
        "    scaler = pickle.load(f)"
      ],
      "metadata": {
        "colab": {
          "base_uri": "https://localhost:8080/"
        },
        "id": "EuJJ7NjKZX6h",
        "outputId": "512bb058-cc89-4860-b960-ac793fffed49"
      },
      "execution_count": null,
      "outputs": [
        {
          "output_type": "stream",
          "name": "stderr",
          "text": [
            "WARNING:absl:Compiled the loaded model, but the compiled metrics have yet to be built. `model.compile_metrics` will be empty until you train or evaluate the model.\n"
          ]
        }
      ]
    },
    {
      "cell_type": "code",
      "source": [
        "\n",
        "# Load the original dataset\n",
        "file_path = \"/content/drive/MyDrive/Deep_Learning/heart_2022_no_nans (1).xlsx\"\n",
        "df_original = pd.read_excel(file_path)\n",
        "\n",
        "# Load encoders and scaler\n",
        "with open(\"/content/drive/MyDrive/Deep_Learning/label_encoders.pkl\", \"rb\") as f:\n",
        "    label_encoders = pickle.load(f)\n",
        "\n",
        "with open(\"/content/drive/MyDrive/Deep_Learning/scaler.pkl\", \"rb\") as f:\n",
        "    scaler = pickle.load(f)\n",
        "\n",
        "# Load model\n",
        "model = load_model(\"/content/drive/MyDrive/Deep_Learning/health_model.weights.h5\")\n",
        "# Identify columns\n",
        "categorical_cols = [\"State\", \"Sex\", \"GeneralHealth\", \"LastCheckupTime\", \"PhysicalActivities\", \"RemovedTeeth\"]\n",
        "numerical_cols = [\"PhysicalHealthDays\", \"MentalHealthDays\", \"SleepHours\"]\n",
        "target_col = \"HadHeartAttack\"\n",
        "\n",
        "# Loop for 5 predictions\n",
        "for i in range(5):\n",
        "    random_index = np.random.randint(0, len(df_original))\n",
        "    random_sample = df_original.iloc[random_index:random_index+1].copy()\n",
        "\n",
        "    print(f\"\\nSample {i+1} - Original Data:\\n\", random_sample)\n",
        "\n",
        "    for col in categorical_cols:\n",
        "        le = label_encoders[col]\n",
        "        try:\n",
        "            random_sample[col] = le.transform(random_sample[col])\n",
        "        except ValueError:\n",
        "            print(f\"Unseen label in column '{col}': {random_sample[col].values[0]}\")\n",
        "            random_sample[col] = -1\n",
        "\n",
        "    random_sample[numerical_cols] = scaler.transform(random_sample[numerical_cols])\n",
        "    random_sample = random_sample.drop(columns=[target_col])\n",
        "\n",
        "    prediction = model.predict(random_sample)\n",
        "    predicted_class = \"Yes\" if prediction[0][0] > 0.5 else \"No\"\n",
        "\n",
        "    print(f\"Selected Index: {random_index}\")\n",
        "    print(f\"Prediction: HadHeartAttack -> {predicted_class}\")\n"
      ],
      "metadata": {
        "id": "4zotUsOriiVS"
      },
      "execution_count": null,
      "outputs": []
    }
  ]
}